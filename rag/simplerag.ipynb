{
 "cells": [
  {
   "cell_type": "code",
   "execution_count": 1,
   "metadata": {},
   "outputs": [
    {
     "data": {
      "text/plain": [
       "[Document(metadata={'source': 'speech.txt'}, page_content=\"I have a dream today!\\nA dream that one day this nation will rise up and live out the true meaning of its creed: 'We hold these truths to be self-evident, that all men are created equal.'\\nI have a dream\\n\\n today!\\nA dream that one day on the red hills of Georgia, the sons of former slaves and the sons of former slave owners will be able to sit down together at the table of brotherhood.\\nI have a dream today!\\nA dream that one day even the state of Mississippi, a state sweltering with the heat of injustice, the state sweltering with the heat of oppression, will be transformed into an oasis of freedom and justice.\\nI have a dream today!\\nA dream that my four little children will one day live in a nation where they will not be judged by the color of their skin but by the content of their character.\")]"
      ]
     },
     "execution_count": 1,
     "metadata": {},
     "output_type": "execute_result"
    }
   ],
   "source": [
    "##Data Ingestion\n",
    "from langchain_community.document_loaders import TextLoader\n",
    "loader = TextLoader(\"speech.txt\")\n",
    "text_documents = loader.load()\n",
    "text_documents"
   ]
  },
  {
   "cell_type": "code",
   "execution_count": 2,
   "metadata": {},
   "outputs": [],
   "source": [
    "import os\n",
    "from dotenv import load_dotenv\n",
    "load_dotenv()\n",
    "\n",
    "os.environ['OPENAI_API_KEY']=os.getenv(\"OPENAI_API_KEY\")"
   ]
  },
  {
   "cell_type": "code",
   "execution_count": 5,
   "metadata": {},
   "outputs": [],
   "source": [
    "#web based loader\n",
    "from langchain_community.document_loaders import WebBaseLoader\n",
    "import bs4\n",
    "\n",
    "##load chunk and index the content of the html page\n",
    "\n",
    "loader = WebBaseLoader(web_paths=(\"https://www.scotthyoung.com/blog/2024/07/09/the-twelve-foundations-for-a-good-life/?ck_subscriber_id=2430876355\",),\n",
    "                       bs_kwargs = dict(parse_only=bs4.SoupStrainer(\n",
    "                           class_ = (\"entry-title\", \"entry-content\", \"entry-header\")\n",
    "                       )))\n",
    "\n",
    "text_documents = loader.load()"
   ]
  },
  {
   "cell_type": "code",
   "execution_count": 6,
   "metadata": {},
   "outputs": [
    {
     "data": {
      "text/plain": [
       "[Document(metadata={'source': 'https://www.scotthyoung.com/blog/2024/07/09/the-twelve-foundations-for-a-good-life/?ck_subscriber_id=2430876355'}, page_content='The Twelve Foundations for a Good Life\\n\\nJuly, 2024\\nNo comments\\n | Comments\\n | Share\\n\\nLast week, I discussed the importance of foundations, the essentials in life we all need, simply by virtue of being human.\\nI also hinted at my upcoming project. I am taking a year to strengthen my own foundations, while working with a group of people who want to do the same.\\xa0\\nOne year is twelve months. So, if you spend a month focusing on building each foundation (plus doing maintenance the rest of the year to ensure it is stable), there is enough time to focus on twelve different foundations.\\nWith this project in mind, here is the list of foundations I plan to cover, as well as the keystone habits that will support them, and my first guess at the books I want to read (or re-read) during the month:\\n1. Physical Fitness\\n\\nKeystone Habit: Exercise for thirty minutes every day.\\n\\n\\n\\n\\nFitness is a paradigmatic example of a foundation. While not everyone needs to be an Olympian, we all benefit from being in shape. Being in shape comes with an enormous list of benefits to health, mood, longevity and even cognition.\\xa0\\nBut being in shape is not something you can “bank” through an intensive project and not worry about later. You need to maintain good habits and attitudes to ensure you’re getting enough physical activity by default—even when you’re not “trying to get in shape.”\\nReading List:\\n\\nExercised by Daniel Lieberman\\nOutlive by Peter Attia\\nAmerican College of Sports Medicine’s Complete Guide to Fitness & Health edited by Barbara Bushman\\nThe Health Habit by Amantha Imber\\n\\n2. Productivity\\n\\nKeystone Habit: Build a full-capture system so no task, appointment, project or idea is forgotten or misplaced.\\n\\n\\n\\n\\nIn a recent conversation I had with Cal Newport, he brought up the importance of being seen as a reliable, productive person—not someone who works furiously to complete tasks, simply someone who doesn’t drop the ball.\\nProductivity, and the reputation that goes with it, is a foundation that allows you to (somewhat paradoxically) push back against a culture of burnout and overwork. If everyone knows you’re organized with your time and to-do list, and you say you don’t have space for more work, they’ll believe you. If they think you’re scattered or lazy, they might assume they can get more from you just by squeezing harder.\\nAside from grand achievements or not mindlessly working extra hours, this is why a foundation in basic productivity systems is so important. If you have your act together, you’ll be much more able to work in ways that make sense for you.\\nReading List:\\n\\nGetting Things Done by David Allen\\nThe Effective Executive by Peter Drucker\\nThe Checklist Manifesto by Atul Gawande\\nThe Power of Full Engagement by Jim Loehr and Tony Schwartz\\n\\n3. Money\\n\\nKeystone Habit: Track your spending.\\n\\n\\n\\n\\nNot everyone will be rich. But everyone should feel good about their finances.\\nLike other foundations, the core of personal finance is relatively simple: spend less than you earn, save and invest adequately for emergencies and retirement, avoid consumer debt and spend money on the things that matter to you (not what social scripts say you should).\\nReading List:\\n\\nThe Psychology of Money by Morgan Housel\\nI Will Teach You To Be Rich by Ramit Sethi\\nThe Little Book of Common Sense Investing by John Bogle\\nThe Simple Path to Wealth by J.L. Collins\\n\\n4. Food\\n\\nKeystone Habit: No junk food for a month, followed by clear personal guidelines for exceptions.1\\n\\n\\n\\n\\nAfter fitness, healthy eating is probably the best investment you can make in your body. Yet eating right can be really challenging.\\nFor starters, our brains evolved to overconsume. We live in an environment with an abundance of calories, but our instincts are geared toward the threat of future starvation.\\nSecond, nutritional advice is confusing. Should you eat low-fat or low-carb? Is butter good for you? Eggs? Yet despite the seeming flip-flopping of nutritional science,2 the core of healthy eating is fairly obvious—we just don’t do it all the time.\\nFinally, diet is hard because it isn’t one habit but many. It’s a decision about what breakfast to eat, whether to snack at work and how much to indulge while staying with family over the holidays. Each decision a complex trade-off between health, enjoyment and social obligations.\\nReading List:\\n\\nThe Hungry Brain by Stephan Guyenet\\nEat, Drink and Be Healthy: The Harvard Medical School Guide to Healthy Eating by Walter Willett and Patrick Skerrett\\nIn Defense of Food by Michael Pollan\\nUnderstanding Nutrition by Ellie Whitney and Sharon Rady Rolfes\\n\\n5. Reading\\n\\nKeystone Habit: Read a book for ten minutes nightly before bed.\\n\\n\\n\\n\\nFew practices are as important for bringing high-quality ideas into your life as reading more books. This foundation has weakened for the average American—the number of books read has declined precipitously since the invention of smartphones and social media.\\nWhile blogs and courses can teach you things, there’s something special about books. To write a book, the author has to spend at least a few years thinking deeply about a topic. Reading a good book gives you the concentrated output of years of thinking from a smart person on a topic. The same probably can’t be said for the average Instagram story.\\nWe all know we should read more, but we don’t always have the foundation in place for doing so.\\nReading List:\\n\\nHow to Read a Book by Mortimer J. Adler and Charles Van Doren\\nHow to Read a Paper by Trisha Greenhalgh\\nOutsmart Your Brain by Daniel Willingham\\nWhy Read? by Mark Edmundson\\n\\n6. Outreach\\n\\nKeystone Habit: Once per week, engage in an activity that allows you to meet new people.\\n\\n\\n\\n\\nOur quality of life depends on the quality of our relationships. You can have a perfect body and tons of money but be miserable if the human connections in your life are lacking or absent.\\nI think of relationships with people as two separate foundations: outreach and connection. Outreach is meeting new people and reconnecting with people you already know but don’t see often. Broadening your social network gives you new opportunities to make friends, get to know colleagues or find romantic partners.\\nReading List:\\n\\nNever Eat Alone by Keith Ferrazzi and Tahl Raz\\nHow to Win Friends and Influence People by Dale Carnegie\\nSuperconnect by Richard Koch and Greg Lockwood\\nSupercommunicators by Charles Duhigg\\n\\n7. Sleep\\n\\nKeystone Habit: Stick to consistent sleep and wake times. (Even on weekends.)\\n\\n\\n\\n\\nSleep fills out the trifecta of health-oriented foundations, following fitness and diet. While seemingly the simplest of the three, it’s tricky to get right.\\nAs a parent with two small kids, I can attest to the difficulty (and importance) of getting adequate sleep, particularly in the newborn phase when waking up multiple times a night is a part of the package.\\nBut sleep is more than just unconsciousness. The rhythms for your falling asleep and waking up define your day, determine your energy and dictate what sorts of activities you’ll be able to excel at. There’s a reason entire books have been devoted to the topic of waking up early—a change in sleep rhythms can be transformative for the rest of your life.\\nReading List:\\n\\nThe Sleep Solution by W. Chris Winter\\nThe Sleep Prescription by Aric Prather\\nThe 5 AM Miracle by Jeff Sanders\\nMake Your Bed by William McRaven\\n\\n8. Reflection\\n\\nKeystone Habit: Write for ten minutes daily.\\n\\n\\n\\n\\nIf regular reading shapes the flow of information into your head, regular writing shapes the ideas that are already there. Journaling, whether documenting events, planning for the future or trouble-shooting life’s many problems, is a foundation for more thoughtful, deliberate decisions.\\nReflection is a foundation that, for many of us, ends up in disrepair because of the urgency\\xa0of many of the typical tasks we face. We’re so busy that we don’t have time to sit down and think about our goals, problems and motivations. But this frenetic pace encourages us to be impulsive in our decision-making, rather than thoughtful. It can exacerbate the frazzled busyness that made us forego contemplation in the first place!\\nReading List:\\n\\nBird by Bird by Anne Lamott\\nCognitive Behavior Therapy by Judith Beck\\nAltered Traits by Daniel Goleman and Richard Davidson\\nThe Art of Thinking Clearly by Rolf Dobelli\\n\\n9. Connection\\n\\nKeystone Habit: Have one genuine conversation with a close friend per day.\\n\\n\\n\\n\\nI’ll never forget the advice an older friend gave me upon hearing that I was about to become a father: “Don’t listen to people who say they spend ‘quality time’ with their kids. When it comes to your kids, quantity time is quality time.”\\nOur key relationships, with our family, partners, and best friends are obviously important. Often, we fail to shore up this foundation regularly. We chase far-off ambitions while neglecting the nearby relationships that underpin our happiness.\\xa0\\nPhones and digital distractions have made this worse. We can now be physically in the same room with others, yet utterly disconnected.\\nReading List:\\n\\nThe Course of Love by Alain de Botton\\nBowling Alone by Robert Putnam\\nFind Your People by Jennie Allen\\nSocial by Matthew Lieberman\\n\\n10. Focus\\n\\nKeystone Habit: Carve out time for daily deep work.\\n\\n\\n\\n\\nThe first foundation of productivity is being organized with your tasks—being the kind of person who gets stuff done and doesn’t drop the ball.\\nThe second foundation of productivity is getting the right things done. Deep work, a term coined by my friend and frequent collaborator, Cal Newport, is a good proxy for the sustained concentration we need to do work that actually matters. Not all work is deep, but the deep work is usually what gets undersupplied in our daily lives.\\nReading List:\\n\\nDeep Work by Cal Newport\\nFour Thousand Weeks by Oliver Burkeman\\nThe 80/20 Principle by Richard Koch\\nIndistractable by Nir Eyal\\nFocus by Daniel Goleman\\n\\n11. Organization\\n\\nKeystone Habit: Initially, reorganize one small space per day (could be a drawer, shelf or computer folder). Later, ensure that everything has a home (so the organization system is sustainable).\\n\\n\\n\\n\\nOrganizing our tasks is central to productivity—if we keep misplacing tasks and appointments, we won’t be very effective.\\nA parallel exists in our physical environment. If our physical space is cluttered and disorganized, we have a hard time making use of our stuff.\\nGetting organized, however, is daunting. There’s a large fixed cost to decluttering, which can mean we live with the mess rather than fix it. Poor organizational systems tend to revert to chaos relatively quickly if they don’t serve the functions of our lives.\\nReading List:\\n\\nThe Life-Changing Magic of Tidying Up by Marie Kondō\\n10-Minute Declutter by S.J. Scott and Barrie Davenport\\nDaily Inbox Zero by S.J. Scott\\nMinimalism by Joshua Fields Millburn and Ryan Nicodemus\\n\\n12. Service\\n\\nKeystone Habit: Volunteer at least once per week.\\n\\n\\n\\n\\nAll the foundations I’ve listed so far are largely self-centered.\\xa0\\nThis is not necessarily a bad thing. Having your life together is probably the most important precursor to living altruistically. If we neglect our financial foundations, we can become the friend who’s always broke and needs to borrow money. If we neglect our productivity foundations, we can become so frazzled at work that we can’t contribute. If we neglect the foundations of our relationships and interests, we can find ourselves stuck at home because of years of inactivity. Neglecting foundations tends to make us less able to help others and more dependent on others for help.\\nBut a purely self-centered attempt at securing greater foundations is self-defeating. Ultimately, we’re not just living to maximize our own self-interest; we’re working to make life better for the people around us. Service is the foundation for a meaningful life.\\nReading List:\\n\\nMan’s Search for Meaning by Victor Frankl\\nThe 8th Habit by Stephen Covey\\nAltruism by Matthieu Ricard\\nThe Last Lecture by Randy Pausch\\n\\nWhat about Spirituality, Creativity or Flossing?\\nThis list is not complete. There are dozens more plausible things that could have made it onto the list—creative self-expression, time in nature or mindfulness. Heck, even dental hygiene is underrated since failure to floss actually increases your risk of heart attacks.\\nPerhaps the biggest omission from this list is explicitly devoting a month to some kind of spiritual or religious practice. The replies from my previous essay seem to indicate that this was a major foundation for many that I was overlooking.\\nHowever, spiritual practices are diverse and harder to universalize across people of different faiths and belief systems. Still, I think many of the foundations listed above can be put in a more spiritual direction (reading can be aimed at religious texts, reflection can become prayer or meditation, service is a component of most world religions).\\nSimilarly, other important aspects of life, such as trying new things or creative self-expression are manifold in the ways they can integrate into our lives, so while they certainly matter, they are less supported by universal, concrete behaviors.\\nBut you should probably floss.\\nAdding Up the Foundations\\nAll of these foundations, put side-by-side, look like a lot. But the total daily and weekly commitment isn’t nearly so grand.\\xa0\\nThe long-term effort required to sustain all twelve of these foundations is on the order of one hour per day, and many of the foundations don’t require any extra daily time carved out.3\\nThe short-term effort of getting set up is higher, but this is why focusing on each foundation for a month makes sense—it can take some time to get to a position where lightweight habits can sustain you for years into the future. Setting up a good personal finance system, for instance, can take some research and effort but, after its done, shouldn’t require more than a brief, monthly check-in.\\n\\nWhat do you think? Which foundations do you think I’m neglecting in the above list? In evaluating your own life, which foundations are strong for you and which ones need more work? I’d love to hear your thoughts in the comments!\\n_ _ _\\n\\nP.S. – Learn more about my foundations course here.\\nFootnotesWhile overly restrictive diets tend not to be sustainable long-term, general admonishments to “eat healthier” usually fail because they don’t establish any consistent behaviors. My experience has been that it usually works better to start out a *little* more restrictive than you’re planning for long-term because the simplicity of such a system helps you find a new equilibrium. However, this should be followed by coming up with clear personal guidelines for specific situations (family holidays, birthday parties, etc.) that remove the need to constantly exert willpower.No doubt exaggerated by the popular media that prefer to share the results of a single, spurious study rather than the well-documented and consistent correlations between diet and health.By my calculation: 30 minutes for daily exercise + 10 minutes for daily reading + 10 minutes for daily writing = 50 minutes daily commitment. Daily conversations and deep work would, presumably, modify existing work/social activities rather than strictly add to most people’s calendars. Tracking spending, service and outreach also have additional weekly/monthly commitments, but those burdens are more flexible in terms of when you do them.')]"
      ]
     },
     "execution_count": 6,
     "metadata": {},
     "output_type": "execute_result"
    }
   ],
   "source": [
    "text_documents"
   ]
  },
  {
   "cell_type": "code",
   "execution_count": 8,
   "metadata": {},
   "outputs": [],
   "source": [
    "#Pdf loader\n",
    "from langchain_community.document_loaders import PyPDFLoader\n",
    "loader= PyPDFLoader(\"IT Resume UK.pdf\")\n",
    "documents = loader.load()"
   ]
  },
  {
   "cell_type": "code",
   "execution_count": 9,
   "metadata": {},
   "outputs": [
    {
     "data": {
      "text/plain": [
       "[Document(metadata={'source': 'IT Resume UK.pdf', 'page': 0}, page_content=\"PETER UKPETENAN\\n•\\n•\\n•\\n•\\n•\\n•\\n• \\n•\\n•\\n•\\n•\\n•\\n•\\n• \\n•\\n•\\n•\\n•\\n•\\n•\\n• +1437818-5356|eronsukpetenan@gmail.com |M3N 2M6|\\nInstalled, configured, and maintained software and hardware components.\\nProvided technical support and training to end-users on various software applications, including O365.\\nMonitored IT systems to ensure they are operating efficiently and securely.\\nAssisted in the development and implementation of IT policies and procedures.\\nWorked with vendors to resolve complex technical issues and ensure service levels are met.\\nOffered IT support services including software installation, maintenance, and user support.\\nManaged security groups, distribution lists, and application access with Active Directory.\\nInstalled, configured, and maintained software and hardware components.\\nProvided technical support and training to end-users on various software applications, including O365.\\nMonitored IT systems to ensure they are operating efficiently and securely.\\nAssisted in the development and implementation of IT policies and procedures.\\nWorked with vendors to resolve complex technical issues and ensure service levels are met.\\nOffered IT support services including software installation, maintenance, and user support.\\nManaged security groups, distribution lists, and application access with Active Directory.\\nPython, Git, Airflow, R, Microsoft Azure, Active Directory, Databricks, Data Analysis, AnyDesk, Business Analyticslinkedin.com/in/peter-ukpetenan-5289b015b\\nManaged and maintained server rooms ensuring optimal operational conditions.\\nProvided technical guidance and support to team members on various IT issues, including Active Directory and O365.\\nTroubleshot and resolved hardware and software issues promptly to minimize downtime.\\nCollaborated with the IT team to implement new technologies and upgrades.\\nConducted regular system audits to ensure compliance with company policies and standards.\\nSupported end-users with software installations and maintenance, including Office Suite and common applications.\\nHandled escalated service desk calls providing on-site and L2 support across multiple sites.\\nSKILLSEDUCATION\\nConestoga College \\nPost-Graduate Certificate, Predictive Analytics\\nBabcock University\\nBachelor's, Computer Science\\nPROFESSIONAL EXPERIENCE\\nSkills: Integrated Data Services Limited\\nIT Support EngineerStandards Organization of Nigeria\\nIT Support (2nd-Line)January 2024 - August 2024\\nSeptember 2014 - December 2018\\nGPA: 3.6\\nCoventry, England, United Kingdom\\nSeptember 2021 - September 2022\\nLagos, Nigeria\\nAugust 2019 - August 2020\\nBenin City, ED, Nigeria\\nMay 2017 - September 2017Mahindra Advanced Design Europe \\nIT Support Specialist\")]"
      ]
     },
     "execution_count": 9,
     "metadata": {},
     "output_type": "execute_result"
    }
   ],
   "source": [
    "documents"
   ]
  },
  {
   "cell_type": "code",
   "execution_count": 10,
   "metadata": {},
   "outputs": [
    {
     "data": {
      "text/plain": [
       "[Document(metadata={'source': 'IT Resume UK.pdf', 'page': 0}, page_content='PETER UKPETENAN\\n•\\n•\\n•\\n•\\n•\\n•\\n• \\n•\\n•\\n•\\n•\\n•\\n•\\n• \\n•\\n•\\n•\\n•\\n•\\n•\\n• +1437818-5356|eronsukpetenan@gmail.com |M3N 2M6|\\nInstalled, configured, and maintained software and hardware components.\\nProvided technical support and training to end-users on various software applications, including O365.\\nMonitored IT systems to ensure they are operating efficiently and securely.\\nAssisted in the development and implementation of IT policies and procedures.\\nWorked with vendors to resolve complex technical issues and ensure service levels are met.\\nOffered IT support services including software installation, maintenance, and user support.\\nManaged security groups, distribution lists, and application access with Active Directory.\\nInstalled, configured, and maintained software and hardware components.\\nProvided technical support and training to end-users on various software applications, including O365.\\nMonitored IT systems to ensure they are operating efficiently and securely.'),\n",
       " Document(metadata={'source': 'IT Resume UK.pdf', 'page': 0}, page_content='Provided technical support and training to end-users on various software applications, including O365.\\nMonitored IT systems to ensure they are operating efficiently and securely.\\nAssisted in the development and implementation of IT policies and procedures.\\nWorked with vendors to resolve complex technical issues and ensure service levels are met.\\nOffered IT support services including software installation, maintenance, and user support.\\nManaged security groups, distribution lists, and application access with Active Directory.\\nPython, Git, Airflow, R, Microsoft Azure, Active Directory, Databricks, Data Analysis, AnyDesk, Business Analyticslinkedin.com/in/peter-ukpetenan-5289b015b\\nManaged and maintained server rooms ensuring optimal operational conditions.\\nProvided technical guidance and support to team members on various IT issues, including Active Directory and O365.\\nTroubleshot and resolved hardware and software issues promptly to minimize downtime.'),\n",
       " Document(metadata={'source': 'IT Resume UK.pdf', 'page': 0}, page_content=\"Provided technical guidance and support to team members on various IT issues, including Active Directory and O365.\\nTroubleshot and resolved hardware and software issues promptly to minimize downtime.\\nCollaborated with the IT team to implement new technologies and upgrades.\\nConducted regular system audits to ensure compliance with company policies and standards.\\nSupported end-users with software installations and maintenance, including Office Suite and common applications.\\nHandled escalated service desk calls providing on-site and L2 support across multiple sites.\\nSKILLSEDUCATION\\nConestoga College \\nPost-Graduate Certificate, Predictive Analytics\\nBabcock University\\nBachelor's, Computer Science\\nPROFESSIONAL EXPERIENCE\\nSkills: Integrated Data Services Limited\\nIT Support EngineerStandards Organization of Nigeria\\nIT Support (2nd-Line)January 2024 - August 2024\\nSeptember 2014 - December 2018\\nGPA: 3.6\\nCoventry, England, United Kingdom\\nSeptember 2021 - September 2022\\nLagos, Nigeria\"),\n",
       " Document(metadata={'source': 'IT Resume UK.pdf', 'page': 0}, page_content='IT Support (2nd-Line)January 2024 - August 2024\\nSeptember 2014 - December 2018\\nGPA: 3.6\\nCoventry, England, United Kingdom\\nSeptember 2021 - September 2022\\nLagos, Nigeria\\nAugust 2019 - August 2020\\nBenin City, ED, Nigeria\\nMay 2017 - September 2017Mahindra Advanced Design Europe \\nIT Support Specialist')]"
      ]
     },
     "execution_count": 10,
     "metadata": {},
     "output_type": "execute_result"
    }
   ],
   "source": [
    "from langchain.text_splitter import RecursiveCharacterTextSplitter\n",
    "\n",
    "text_splitter = RecursiveCharacterTextSplitter(chunk_size=1000, chunk_overlap=200)\n",
    "texts = text_splitter.split_documents(documents)\n",
    "texts[:5]"
   ]
  },
  {
   "cell_type": "code",
   "execution_count": 11,
   "metadata": {},
   "outputs": [
    {
     "name": "stderr",
     "output_type": "stream",
     "text": [
      "c:\\Users\\erons\\Downloads\\My Data Science Projects\\LangChain Chatbot\\venv\\lib\\site-packages\\langchain_core\\_api\\deprecation.py:141: LangChainDeprecationWarning: The class `OpenAIEmbeddings` was deprecated in LangChain 0.0.9 and will be removed in 0.3.0. An updated version of the class exists in the langchain-openai package and should be used instead. To use it run `pip install -U langchain-openai` and import as `from langchain_openai import OpenAIEmbeddings`.\n",
      "  warn_deprecated(\n"
     ]
    }
   ],
   "source": [
    "##Vector Embedding and Vector Store\n",
    "from langchain_community.embeddings import OpenAIEmbeddings\n",
    "from langchain_community.vectorstores import Chroma\n",
    "db = Chroma.from_documents(documents[:20], OpenAIEmbeddings())"
   ]
  },
  {
   "cell_type": "code",
   "execution_count": 13,
   "metadata": {},
   "outputs": [
    {
     "name": "stderr",
     "output_type": "stream",
     "text": [
      "Number of requested results 4 is greater than number of elements in index 1, updating n_results = 1\n"
     ]
    },
    {
     "data": {
      "text/plain": [
       "\"PETER UKPETENAN\\n•\\n•\\n•\\n•\\n•\\n•\\n• \\n•\\n•\\n•\\n•\\n•\\n•\\n• \\n•\\n•\\n•\\n•\\n•\\n•\\n• +1437818-5356|eronsukpetenan@gmail.com |M3N 2M6|\\nInstalled, configured, and maintained software and hardware components.\\nProvided technical support and training to end-users on various software applications, including O365.\\nMonitored IT systems to ensure they are operating efficiently and securely.\\nAssisted in the development and implementation of IT policies and procedures.\\nWorked with vendors to resolve complex technical issues and ensure service levels are met.\\nOffered IT support services including software installation, maintenance, and user support.\\nManaged security groups, distribution lists, and application access with Active Directory.\\nInstalled, configured, and maintained software and hardware components.\\nProvided technical support and training to end-users on various software applications, including O365.\\nMonitored IT systems to ensure they are operating efficiently and securely.\\nAssisted in the development and implementation of IT policies and procedures.\\nWorked with vendors to resolve complex technical issues and ensure service levels are met.\\nOffered IT support services including software installation, maintenance, and user support.\\nManaged security groups, distribution lists, and application access with Active Directory.\\nPython, Git, Airflow, R, Microsoft Azure, Active Directory, Databricks, Data Analysis, AnyDesk, Business Analyticslinkedin.com/in/peter-ukpetenan-5289b015b\\nManaged and maintained server rooms ensuring optimal operational conditions.\\nProvided technical guidance and support to team members on various IT issues, including Active Directory and O365.\\nTroubleshot and resolved hardware and software issues promptly to minimize downtime.\\nCollaborated with the IT team to implement new technologies and upgrades.\\nConducted regular system audits to ensure compliance with company policies and standards.\\nSupported end-users with software installations and maintenance, including Office Suite and common applications.\\nHandled escalated service desk calls providing on-site and L2 support across multiple sites.\\nSKILLSEDUCATION\\nConestoga College \\nPost-Graduate Certificate, Predictive Analytics\\nBabcock University\\nBachelor's, Computer Science\\nPROFESSIONAL EXPERIENCE\\nSkills: Integrated Data Services Limited\\nIT Support EngineerStandards Organization of Nigeria\\nIT Support (2nd-Line)January 2024 - August 2024\\nSeptember 2014 - December 2018\\nGPA: 3.6\\nCoventry, England, United Kingdom\\nSeptember 2021 - September 2022\\nLagos, Nigeria\\nAugust 2019 - August 2020\\nBenin City, ED, Nigeria\\nMay 2017 - September 2017Mahindra Advanced Design Europe \\nIT Support Specialist\""
      ]
     },
     "execution_count": 13,
     "metadata": {},
     "output_type": "execute_result"
    }
   ],
   "source": [
    "##Vector Database\n",
    "query = \"Who is the author of The Twelve foundations for a good life?\"\n",
    "result = db.similarity_search(query)\n",
    "result[0].page_content"
   ]
  },
  {
   "cell_type": "code",
   "execution_count": null,
   "metadata": {},
   "outputs": [],
   "source": []
  }
 ],
 "metadata": {
  "kernelspec": {
   "display_name": "credit_card_approval",
   "language": "python",
   "name": "python3"
  },
  "language_info": {
   "codemirror_mode": {
    "name": "ipython",
    "version": 3
   },
   "file_extension": ".py",
   "mimetype": "text/x-python",
   "name": "python",
   "nbconvert_exporter": "python",
   "pygments_lexer": "ipython3",
   "version": "3.10.14"
  }
 },
 "nbformat": 4,
 "nbformat_minor": 2
}
